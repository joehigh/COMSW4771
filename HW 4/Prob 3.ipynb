{
 "cells": [
  {
   "cell_type": "code",
   "execution_count": 18,
   "metadata": {},
   "outputs": [],
   "source": [
    "import numpy as np\n",
    "import math\n",
    "import seaborn as sns\n",
    "from matplotlib import pyplot as plt\n",
    "import matplotlib.gridspec as gridspec"
   ]
  },
  {
   "cell_type": "code",
   "execution_count": 19,
   "metadata": {},
   "outputs": [],
   "source": [
    "N = 100\n",
    "num_rows = 5\n",
    "num_cols = 5\n",
    "grid = np.zeros((num_rows,num_cols))"
   ]
  },
  {
   "cell_type": "code",
   "execution_count": 20,
   "metadata": {},
   "outputs": [],
   "source": [
    "gamma = 0.9  \n",
    "for num in range(N): #number of times we will go through the whole grid\n",
    "    for i in range(num_rows):      #all the rows\n",
    "        for j in range(num_cols):    #all the columns\n",
    "            \n",
    "            north = grid[i-1][j] if i > 0 else 0   #if going up takes us out of the grid then its value be 0\n",
    "            south = grid[i+1][j] if i < 4 else 0   #if going down takes us out of the grid then its value be 0\n",
    "            east = grid[i][j+1] if j < 4 else 0    #if going right takes us out of the grid then its value be 0\n",
    "            west = grid[i][j-1] if j > 0 else 0    #if going left takes us out of the grid then its value be 0\n",
    "            \n",
    "            actions = [north, south, east, west]      \n",
    "\n",
    "            value=0  \n",
    "            if i==0 and j==1: # the position of A\n",
    "                value = 10 + gamma*grid[4][1]\n",
    "            elif i==0 and j==3: # the position of B\n",
    "                value = 5 + gamma*grid[2][3]\n",
    "            else:\n",
    "                for a in actions:\n",
    "                    if a != 0: \n",
    "                        value += .25 * (0 + gamma*a)  #if we don't go out of the grid\n",
    "                    else:\n",
    "                        value += .25 * (-1 + gamma*grid[i][j]) #if we go out of the grid\n",
    "            grid[i][j] = value"
   ]
  },
  {
   "cell_type": "code",
   "execution_count": 21,
   "metadata": {},
   "outputs": [
    {
     "data": {
      "text/plain": [
       "array([[ 3.3,  8.8,  4.4,  5.3,  1.5],\n",
       "       [ 1.5,  3. ,  2.3,  1.9,  0.5],\n",
       "       [ 0.1,  0.7,  0.7,  0.4, -0.4],\n",
       "       [-1. , -0.4, -0.4, -0.6, -1.2],\n",
       "       [-1.9, -1.3, -1.2, -1.4, -2. ]])"
      ]
     },
     "execution_count": 21,
     "metadata": {},
     "output_type": "execute_result"
    }
   ],
   "source": [
    "np.round(grid, 1)"
   ]
  },
  {
   "cell_type": "code",
   "execution_count": 13,
   "metadata": {},
   "outputs": [
    {
     "data": {
      "image/png": "[encoded data removed]",
      "text/plain": [
       "<Figure size 936x648 with 1 Axes>"
      ]
     },
     "metadata": {
      "needs_background": "light"
     },
     "output_type": "display_data"
    }
   ],
   "source": [
    "fig, ax = plt.subplots(figsize=(13, 9))\n",
    "ax = sns.heatmap(grid, annot=True, square=True, linewidths=0.5, cbar=False)\n",
    "ax.set_ylim([5,0])\n",
    "fig.savefig('./figures/p3_uniform_grid_gamma09.png')"
   ]
  },
  {
   "cell_type": "code",
   "execution_count": 36,
   "metadata": {},
   "outputs": [],
   "source": []
  },
  {
   "cell_type": "code",
   "execution_count": 37,
   "metadata": {},
   "outputs": [
    {
     "data": {
      "text/plain": [
       "array([[-0.2,  9.6, -0.4,  4.4, -0.2],\n",
       "       [-0.4, -0.6, -0.6, -0.6, -0.4],\n",
       "       [-0.4, -0.6, -0.6, -0.6, -0.4],\n",
       "       [-0.4, -0.6, -0.6, -0.6, -0.4],\n",
       "       [-0.2, -0.4, -0.4, -0.4, -0.2]])"
      ]
     },
     "execution_count": 37,
     "metadata": {},
     "output_type": "execute_result"
    }
   ],
   "source": []
  },
  {
   "cell_type": "code",
   "execution_count": null,
   "metadata": {},
   "outputs": [],
   "source": []
  }
 ],
 "metadata": {
  "kernelspec": {
   "display_name": "Python 3",
   "language": "python",
   "name": "python3"
  },
  "language_info": {
   "codemirror_mode": {
    "name": "ipython",
    "version": 3
   },
   "file_extension": ".py",
   "mimetype": "text/x-python",
   "name": "python",
   "nbconvert_exporter": "python",
   "pygments_lexer": "ipython3",
   "version": "3.7.4"
  }
 },
 "nbformat": 4,
 "nbformat_minor": 2
}
